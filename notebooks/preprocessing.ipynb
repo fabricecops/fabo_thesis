{
 "cells": [
  {
   "cell_type": "code",
   "execution_count": 1,
   "metadata": {},
   "outputs": [],
   "source": [
    "import os\n",
    "import sys\n",
    "import shutil\n",
    "import dotenv\n",
    "from   dotenv import find_dotenv, load_dotenv\n",
    "\n",
    "load_dotenv(find_dotenv())\n",
    "PATH_P     = os.environ['PATH_P']\n",
    "\n",
    "\n",
    "os.chdir(PATH_P)\n",
    "sys.path.insert(0, PATH_P)\n",
    "import pandas as pd\n",
    "import src.visualization.webvisualization.visualization as vs\n",
    "import src.data.dimensionality_reduction.HCF.preprocessing as pp\n",
    "from src.data.labeler.labeler import anomaly_segmenter\n",
    "\n",
    "import matplotlib.pyplot as plt\n",
    "plt.style.use('ggplot')"
   ]
  },
  {
   "cell_type": "markdown",
   "metadata": {},
   "source": [
    "## load in df_data"
   ]
  },
  {
   "cell_type": "code",
   "execution_count": 2,
   "metadata": {
    "scrolled": true
   },
   "outputs": [
    {
     "name": "stdout",
     "output_type": "stream",
     "text": [
      "False    1781\n",
      "True      261\n",
      "Name: label, dtype: int64\n"
     ]
    },
    {
     "data": {
      "image/png": "[encoded data removed]",
      "text/plain": [
       "<Figure size 432x288 with 1 Axes>"
      ]
     },
     "metadata": {},
     "output_type": "display_data"
    },
    {
     "data": {
      "image/png": "[encoded data removed]",
      "text/plain": [
       "<Figure size 432x288 with 1 Axes>"
      ]
     },
     "metadata": {},
     "output_type": "display_data"
    },
    {
     "data": {
      "image/png": "[encoded data removed]",
      "text/plain": [
       "<Figure size 432x288 with 1 Axes>"
      ]
     },
     "metadata": {},
     "output_type": "display_data"
    }
   ],
   "source": [
    "path       = './data/raw/configured_raw/'\n",
    "\n",
    "list_names = os.listdir(path)\n",
    "GD         =  pp.get_df(path)\n",
    "df         =  GD.get_df_data(list_names)\n",
    "\n",
    "show_dist  =  vs.get_df_vs()\n",
    "show_dist.plot_label_dist(df)       \n",
    "show_dist.plot_count_frames(df)       \n",
    "show_dist.plot_segmentation(df)   "
   ]
  },
  {
   "cell_type": "code",
   "execution_count": null,
   "metadata": {},
   "outputs": [],
   "source": [
    "df_true = df[df['label'] == True]\n",
    "df_true.groupby(['location', 'segmentation'])['location'].count().unstack('segmentation').plot(kind='bar', stacked=True)\n",
    "df_true.groupby(['location', 'segmentation'])['segmentation'].count().unstack('location').plot(kind='bar', stacked=True)"
   ]
  },
  {
   "cell_type": "markdown",
   "metadata": {},
   "source": [
    "#### play videos"
   ]
  },
  {
   "cell_type": "code",
   "execution_count": null,
   "metadata": {},
   "outputs": [],
   "source": [
    "bgs_vs = vs.bgs_vs()\n",
    "bgs_vs.play_videos(df)"
   ]
  },
  {
   "cell_type": "markdown",
   "metadata": {},
   "source": [
    "## functions BSG"
   ]
  },
  {
   "cell_type": "markdown",
   "metadata": {},
   "source": [
    "#### stats"
   ]
  },
  {
   "cell_type": "code",
   "execution_count": null,
   "metadata": {
    "scrolled": true
   },
   "outputs": [],
   "source": [
    "bgs_vs = vs.bgs_vs()"
   ]
  },
  {
   "cell_type": "markdown",
   "metadata": {},
   "source": [
    "#### reconstruct"
   ]
  },
  {
   "cell_type": "code",
   "execution_count": null,
   "metadata": {},
   "outputs": [],
   "source": [
    "bgs_vs.show_reconstructed_pic(df,2,5)"
   ]
  },
  {
   "cell_type": "markdown",
   "metadata": {},
   "source": [
    "#### show proces"
   ]
  },
  {
   "cell_type": "code",
   "execution_count": null,
   "metadata": {},
   "outputs": [],
   "source": [
    "bgs_vs.show_process(list_names[0],10)"
   ]
  },
  {
   "cell_type": "markdown",
   "metadata": {},
   "source": [
    "### peak derivation"
   ]
  },
  {
   "cell_type": "code",
   "execution_count": 5,
   "metadata": {},
   "outputs": [],
   "source": [
    "dict_pg = {\n",
    "    'resolution'     : 10,\n",
    "    'area'           : 200,\n",
    "    'min_h'          : 0,\n",
    "    'max_h'          : 120,\n",
    "    \n",
    "    'max_p_h'        : 4,\n",
    "    \n",
    "    'path_save'      :'data/peak_detection/UP/'\n",
    "    \n",
    "}\n",
    "\n",
    "\n",
    "pg_vs = vs.path_gen_vs(df,dict_pg)"
   ]
  },
  {
   "cell_type": "code",
   "execution_count": null,
   "metadata": {},
   "outputs": [],
   "source": [
    "pg_vs.play_videos(45)"
   ]
  },
  {
   "cell_type": "code",
   "execution_count": null,
   "metadata": {},
   "outputs": [],
   "source": []
  }
 ],
 "metadata": {
  "kernelspec": {
   "display_name": "Python 3",
   "language": "python",
   "name": "python3"
  },
  "language_info": {
   "codemirror_mode": {
    "name": "ipython",
    "version": 3
   },
   "file_extension": ".py",
   "mimetype": "text/x-python",
   "name": "python",
   "nbconvert_exporter": "python",
   "pygments_lexer": "ipython3",
   "version": "3.6.3"
  }
 },
 "nbformat": 4,
 "nbformat_minor": 2
}

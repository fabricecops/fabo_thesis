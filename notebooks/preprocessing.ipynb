{
 "cells": [
  {
   "cell_type": "code",
   "execution_count": 1,
   "metadata": {},
   "outputs": [],
   "source": [
    "import os\n",
    "import sys\n",
    "import shutil\n",
    "import dotenv\n",
    "from   dotenv import find_dotenv, load_dotenv\n",
    "\n",
    "load_dotenv(find_dotenv())\n",
    "PATH_P     = os.environ['PATH_P']\n",
    "\n",
    "\n",
    "os.chdir(PATH_P)\n",
    "sys.path.insert(0, PATH_P)\n",
    "import pandas as pd\n",
    "import src.visualization.webvisualization.visualization as vs\n",
    "import src.data.dimensionality_reduction.HCF.preprocessing as pp\n",
    "\n",
    "import matplotlib.pyplot as plt\n",
    "plt.style.use('ggplot')"
   ]
  },
  {
   "cell_type": "markdown",
   "metadata": {},
   "source": [
    "## load in df_data"
   ]
  },
  {
   "cell_type": "code",
   "execution_count": 2,
   "metadata": {
    "scrolled": true
   },
   "outputs": [
    {
     "name": "stdout",
     "output_type": "stream",
     "text": [
      "False    1781\n",
      "True      261\n",
      "Name: label, dtype: int64\n"
     ]
    },
    {
     "data": {
      "image/png": "[encoded data removed]",
      "text/plain": [
       "<matplotlib.figure.Figure at 0x7f00a6c426a0>"
      ]
     },
     "metadata": {},
     "output_type": "display_data"
    },
    {
     "data": {
      "image/png": "[encoded data removed]",
      "text/plain": [
       "<matplotlib.figure.Figure at 0x7f00a5f850b8>"
      ]
     },
     "metadata": {},
     "output_type": "display_data"
    },
    {
     "data": {
      "image/png": "[encoded data removed]",
      "text/plain": [
       "<matplotlib.figure.Figure at 0x7f011adabda0>"
      ]
     },
     "metadata": {},
     "output_type": "display_data"
    }
   ],
   "source": [
    "path       = './data/raw/configured_raw/'\n",
    "\n",
    "list_names = os.listdir(path)\n",
    "GD         =  pp.get_df(path)\n",
    "df         =  GD.get_df_data(list_names)\n",
    "\n",
    "show_dist  =  vs.get_df_vs()\n",
    "show_dist.plot_label_dist(df)       \n",
    "show_dist.plot_count_frames(df)       \n",
    "show_dist.plot_segmentation(df)   "
   ]
  },
  {
   "cell_type": "code",
   "execution_count": null,
   "metadata": {},
   "outputs": [],
   "source": [
    "df_true = df[df['label'] == True]\n",
    "df_true.groupby(['location', 'segmentation'])['location'].count().unstack('segmentation').plot(kind='bar', stacked=True)\n",
    "df_true.groupby(['location', 'segmentation'])['segmentation'].count().unstack('location').plot(kind='bar', stacked=True)"
   ]
  },
  {
   "cell_type": "code",
   "execution_count": 4,
   "metadata": {},
   "outputs": [
    {
     "name": "stdout",
     "output_type": "stream",
     "text": [
      "<built-in function dir>\n",
      "<built-in function dir>\n",
      "<built-in function dir>\n",
      "<built-in function dir>\n",
      "<built-in function dir>\n"
     ]
    },
    {
     "ename": "UnboundLocalError",
     "evalue": "local variable 'location' referenced before assignment",
     "traceback": [
      "\u001b[0;31m---------------------------------------------------------------------------\u001b[0m",
      "\u001b[0;31mUnboundLocalError\u001b[0m                         Traceback (most recent call last)",
      "\u001b[0;32m<ipython-input-4-1253869820e9>\u001b[0m in \u001b[0;36m<module>\u001b[0;34m()\u001b[0m\n\u001b[1;32m     20\u001b[0m \u001b[0;34m\u001b[0m\u001b[0m\n\u001b[1;32m     21\u001b[0m \u001b[0;32mfor\u001b[0m \u001b[0mname\u001b[0m \u001b[0;32min\u001b[0m \u001b[0mlist_names\u001b[0m\u001b[0;34m:\u001b[0m\u001b[0;34m\u001b[0m\u001b[0m\n\u001b[0;32m---> 22\u001b[0;31m     \u001b[0mprint\u001b[0m\u001b[0;34m(\u001b[0m\u001b[0mget_location\u001b[0m\u001b[0;34m(\u001b[0m\u001b[0mname\u001b[0m\u001b[0;34m)\u001b[0m\u001b[0;34m)\u001b[0m\u001b[0;34m\u001b[0m\u001b[0m\n\u001b[0m",
      "\u001b[0;32m<ipython-input-4-1253869820e9>\u001b[0m in \u001b[0;36mget_location\u001b[0;34m(name)\u001b[0m\n\u001b[1;32m     14\u001b[0m \u001b[0;34m\u001b[0m\u001b[0m\n\u001b[1;32m     15\u001b[0m \u001b[0;34m\u001b[0m\u001b[0m\n\u001b[0;32m---> 16\u001b[0;31m     \u001b[0;32mreturn\u001b[0m \u001b[0mlocation\u001b[0m\u001b[0;34m\u001b[0m\u001b[0m\n\u001b[0m\u001b[1;32m     17\u001b[0m \u001b[0;34m\u001b[0m\u001b[0m\n\u001b[1;32m     18\u001b[0m \u001b[0mpath\u001b[0m       \u001b[0;34m=\u001b[0m \u001b[0;34m'./data/raw/configured_raw/'\u001b[0m\u001b[0;34m\u001b[0m\u001b[0m\n",
      "\u001b[0;31mUnboundLocalError\u001b[0m: local variable 'location' referenced before assignment"
     ],
     "output_type": "error"
    }
   ],
   "source": [
    "def get_location(name):\n",
    "    path = './data/raw/conf_FS/'\n",
    "\n",
    "    dirs = os.listdir(path)\n",
    "\n",
    "    for dir_ in dirs:\n",
    "        path_dir = path+dir_\n",
    "        list_    = os.listdir(path_dir)\n",
    "        print(dir)\n",
    "        if(name in list_):\n",
    "            location = dir_\n",
    "    \n",
    "    \n",
    "    \n",
    "    \n",
    "    return location\n",
    "\n",
    "path       = './data/raw/configured_raw/'\n",
    "list_names = os.listdir(path)\n",
    "\n",
    "for name in list_names:\n",
    "    print(get_location(name))"
   ]
  },
  {
   "cell_type": "markdown",
   "metadata": {},
   "source": [
    "#### play videos"
   ]
  },
  {
   "cell_type": "code",
   "execution_count": null,
   "metadata": {},
   "outputs": [],
   "source": [
    "bgs_vs = vs.bgs_vs()\n",
    "bgs_vs.play_videos(df)"
   ]
  },
  {
   "cell_type": "markdown",
   "metadata": {},
   "source": [
    "## functions BSG"
   ]
  },
  {
   "cell_type": "markdown",
   "metadata": {},
   "source": [
    "#### stats"
   ]
  },
  {
   "cell_type": "code",
   "execution_count": null,
   "metadata": {
    "scrolled": true
   },
   "outputs": [],
   "source": [
    "name       =  'Scenario_2017-09-11 14:22:00'\n",
    "list_names =    ['Scenario_2017-09-11 14:33:19',\n",
    "                'Scenario_2017-09-04 17:18:27',\n",
    "                'Scenario_2017-09-04 17:21:55',\n",
    "                'Scenario_2017-09-11 14:22:00']\n",
    "\n",
    "bgs_vs = vs.bgs_vs()"
   ]
  },
  {
   "cell_type": "markdown",
   "metadata": {},
   "source": [
    "#### reconstruct"
   ]
  },
  {
   "cell_type": "code",
   "execution_count": null,
   "metadata": {},
   "outputs": [],
   "source": [
    "bgs_vs.show_reconstructed_pic(df,2,5)"
   ]
  },
  {
   "cell_type": "markdown",
   "metadata": {},
   "source": [
    "#### show proces"
   ]
  },
  {
   "cell_type": "code",
   "execution_count": null,
   "metadata": {},
   "outputs": [],
   "source": [
    "bgs_vs.show_process(name,10)"
   ]
  },
  {
   "cell_type": "markdown",
   "metadata": {},
   "source": [
    "### peak derivation"
   ]
  },
  {
   "cell_type": "code",
   "execution_count": null,
   "metadata": {},
   "outputs": [],
   "source": [
    "dict_pg = {\n",
    "    'resolution'     : 10,\n",
    "    'area'           : 200,\n",
    "    'min_h'          : 0,\n",
    "    'max_h'          : 120,\n",
    "    \n",
    "    'max_p_h'        : 4,\n",
    "    \n",
    "    'path_save'      :'data/peak_detection/UP/'\n",
    "    \n",
    "}\n",
    "\n",
    "\n",
    "pg_vs = vs.path_gen_vs(df,dict_pg)"
   ]
  },
  {
   "cell_type": "code",
   "execution_count": null,
   "metadata": {},
   "outputs": [],
   "source": [
    "pg_vs.play_videos(30)"
   ]
  },
  {
   "cell_type": "code",
   "execution_count": null,
   "metadata": {},
   "outputs": [],
   "source": []
  }
 ],
 "metadata": {
  "kernelspec": {
   "display_name": "Python 3",
   "language": "python",
   "name": "python3"
  },
  "language_info": {
   "codemirror_mode": {
    "name": "ipython",
    "version": 3
   },
   "file_extension": ".py",
   "mimetype": "text/x-python",
   "name": "python",
   "nbconvert_exporter": "python",
   "pygments_lexer": "ipython3",
   "version": "3.6.3"
  }
 },
 "nbformat": 4,
 "nbformat_minor": 2
}

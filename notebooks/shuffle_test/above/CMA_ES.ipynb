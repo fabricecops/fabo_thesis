{
 "cells": [
  {
   "cell_type": "code",
   "execution_count": null,
   "metadata": {},
   "outputs": [],
   "source": [
    "import os\n",
    "import sys\n",
    "import shutil\n",
    "import dotenv\n",
    "from   dotenv import find_dotenv, load_dotenv\n",
    "import matplotlib\n",
    "load_dotenv(find_dotenv())\n",
    "PATH_P     = os.environ['PATH_P']\n",
    "os.chdir(PATH_P)\n",
    "sys.path.insert(0, PATH_P)\n",
    "import pandas as pd\n",
    "from src.dst.outputhandler.pickle import tic,toc,pickle_save_,pickle_load\n",
    "from src.dst.plots.plots import plotting_tool,retrieve_data,SeabornFig2Grid\n",
    "from src.visualization.vis_LSTM_p.main import main_visualize\n",
    "import  numpy as np\n",
    "import matplotlib.pyplot as plt\n",
    "import matplotlib.gridspec as gridspec\n",
    "import seaborn as sns\n",
    "from src.visualization.vis_LSTM_p.main import main_visualize\n",
    "from src.models.CMA_ES.CMA_ES import CMA_ES"
   ]
  },
  {
   "cell_type": "markdown",
   "metadata": {},
   "source": [
    "## experiments"
   ]
  },
  {
   "cell_type": "code",
   "execution_count": null,
   "metadata": {
    "scrolled": true
   },
   "outputs": [],
   "source": [
    "path                                  =  './models/test_shuffle/above/DEEP2/bayes_opt/'\n",
    "RD                                    = retrieve_data()\n",
    "data,dict_,path_best,hist             = RD.get_best_D1(path)\n",
    "data['df_t_val_train']                = pd.concat([data['df_t_train'],data['df_t_val']])\n",
    "AUC_v_a                               = RD.get_all(path,'AUC_v')\n",
    "\n",
    "val_loss_a                            = RD.get_all(path,'val_f')\n",
    "dict_['AUC_v']                        = data['AUC_v']\n",
    "\n",
    "RD.print_dict(dict_)\n",
    "\n",
    "str_list                              = data['path_o'].split('/')\n",
    "data['path_o']                        = path_best\n",
    "BO_vis                                = plotting_tool(dict_)"
   ]
  },
  {
   "cell_type": "code",
   "execution_count": null,
   "metadata": {},
   "outputs": [],
   "source": [
    "def return_dict():\n",
    "    dict_c = {\n",
    "        'path_i'   : './models/bayes_opt/DEEP2/',\n",
    "        'path_save': './models/CMA_ES/DEEP2/',\n",
    "\n",
    "        'resolution_AUC': 1000,\n",
    "\n",
    "        ###### CMA_ES    ######\n",
    "        'CMA_ES': True,\n",
    "        'verbose_CMA': 1,\n",
    "        'verbose_CMA_log': 0,\n",
    "        'evals': 21*150,\n",
    "        'bounds': [-100., 100.],\n",
    "        'sigma': 0.4222222222222225,\n",
    "        'progress_ST': 0.3,\n",
    "        'popsize'    : 21,\n",
    "        \n",
    "        'mode'       : 'linear',\n",
    "\n",
    "        'epoch': 0\n",
    "\n",
    "    }\n",
    "\n",
    "    return dict_c"
   ]
  },
  {
   "cell_type": "markdown",
   "metadata": {},
   "source": [
    "## Min plus linear"
   ]
  },
  {
   "cell_type": "code",
   "execution_count": null,
   "metadata": {
    "scrolled": true
   },
   "outputs": [],
   "source": [
    "dict_c = return_dict()\n",
    "dict_c['mode']   = 'linear'\n",
    "dict_c['bounds'] = [-100,100]\n",
    "path   = path_best.replace('bayes_opt','CMA_ES/min_pos_linear')\n",
    "CMA_ES(dict_c).main(data,path,dict_)"
   ]
  },
  {
   "cell_type": "code",
   "execution_count": null,
   "metadata": {},
   "outputs": [],
   "source": [
    "df    = pickle_load(path+'best/df.p', None)\n",
    "data  = pickle_load(path+'best/data_best.p', None)\n",
    "dict_ = pickle_load(path+'dict.p', None)"
   ]
  },
  {
   "cell_type": "code",
   "execution_count": null,
   "metadata": {},
   "outputs": [],
   "source": [
    "BO_vis.plot_weigths(data['x_tr'],data['x_v'])"
   ]
  },
  {
   "cell_type": "code",
   "execution_count": null,
   "metadata": {},
   "outputs": [],
   "source": [
    "# Set up the figure\n",
    "f, ax = plt.subplots(figsize=(8, 8))\n",
    "ax = sns.regplot(df.epoch, df.population_tr,label = 'train')\n",
    "ax = sns.regplot(df.epoch, df.population_v,label = 'val')\n",
    "ax = sns.regplot(df.epoch, df.population_t,label = 'test')\n",
    "plt.legend()"
   ]
  },
  {
   "cell_type": "code",
   "execution_count": null,
   "metadata": {
    "scrolled": true
   },
   "outputs": [],
   "source": [
    "f, ax = plt.subplots(figsize=(4, 4))\n",
    "ax = sns.regplot(df.epoch, df.abs_diff_tv,label = 'test_val_diff')\n",
    "plt.legend()\n"
   ]
  },
  {
   "cell_type": "code",
   "execution_count": null,
   "metadata": {
    "scrolled": true
   },
   "outputs": [],
   "source": [
    "BO_vis.plot_cma(data)"
   ]
  },
  {
   "cell_type": "code",
   "execution_count": null,
   "metadata": {},
   "outputs": [],
   "source": [
    "data['path_o'] = data['dict_config']['path_save']\n",
    "BO_vis.save_ROC_segment(data,'segmentation',cma = True)"
   ]
  },
  {
   "cell_type": "code",
   "execution_count": null,
   "metadata": {},
   "outputs": [],
   "source": [
    "data['path_o'] = data['dict_config']['path_save']\n",
    "BO_vis.save_ROC_segment(data,'location',cma = True)"
   ]
  },
  {
   "cell_type": "markdown",
   "metadata": {},
   "source": [
    "## plus linear"
   ]
  },
  {
   "cell_type": "code",
   "execution_count": null,
   "metadata": {},
   "outputs": [],
   "source": [
    "dict_c = return_dict()\n",
    "dict_c['mode']   = 'linear'\n",
    "dict_c['bounds'] = [0,100]\n",
    "path   = path_best.replace('bayes_opt','CMA_ES/pos_linear')\n",
    "CMA_ES(dict_c).main(data,path,dict_)"
   ]
  },
  {
   "cell_type": "code",
   "execution_count": null,
   "metadata": {},
   "outputs": [],
   "source": [
    "df    = pickle_load(path+'best/df.p', None)\n",
    "data  = pickle_load(path+'best/data_best.p', None)\n",
    "dict_ = pickle_load(path+'dict.p', None)"
   ]
  },
  {
   "cell_type": "code",
   "execution_count": null,
   "metadata": {},
   "outputs": [],
   "source": [
    "BO_vis.plot_weigths(data['x_tr'],data['x_v'])"
   ]
  },
  {
   "cell_type": "code",
   "execution_count": null,
   "metadata": {},
   "outputs": [],
   "source": [
    "# Set up the figure\n",
    "f, ax = plt.subplots(figsize=(8, 8))\n",
    "ax = sns.regplot(df.epoch, df.population_tr,label = 'train')\n",
    "ax = sns.regplot(df.epoch, df.population_v,label = 'val')\n",
    "ax = sns.regplot(df.epoch, df.population_t,label = 'test')\n",
    "plt.legend()"
   ]
  },
  {
   "cell_type": "code",
   "execution_count": null,
   "metadata": {},
   "outputs": [],
   "source": [
    "f, ax = plt.subplots(figsize=(8, 8))\n",
    "ax = sns.regplot(df.epoch, df.abs_diff_tv,label = 'test_val_diff')\n",
    "plt.legend()"
   ]
  },
  {
   "cell_type": "code",
   "execution_count": null,
   "metadata": {},
   "outputs": [],
   "source": [
    "BO_vis.plot_cma(data)"
   ]
  },
  {
   "cell_type": "code",
   "execution_count": null,
   "metadata": {},
   "outputs": [],
   "source": [
    "data['path_o'] = data['dict_config']['path_save']\n",
    "BO_vis.save_ROC_segment(data,'segmentation',cma = True)"
   ]
  },
  {
   "cell_type": "code",
   "execution_count": null,
   "metadata": {},
   "outputs": [],
   "source": [
    "data['path_o'] = data['dict_config']['path_save']\n",
    "BO_vis.save_ROC_segment(data,'location',cma = True)"
   ]
  },
  {
   "cell_type": "markdown",
   "metadata": {},
   "source": [
    "## plus min sigmoid"
   ]
  },
  {
   "cell_type": "code",
   "execution_count": null,
   "metadata": {},
   "outputs": [],
   "source": [
    "dict_c = return_dict()\n",
    "dict_c['mode']   = 'sigmoid'\n",
    "dict_c['bounds'] = [-100,100]\n",
    "path   = path_best.replace('bayes_opt','CMA_ES/pos_min_sigmoid')\n",
    "CMA_ES(dict_c).main(data,path,dict_)"
   ]
  },
  {
   "cell_type": "code",
   "execution_count": null,
   "metadata": {},
   "outputs": [],
   "source": [
    "df    = pickle_load(path+'best/df.p', None)\n",
    "data  = pickle_load(path+'best/data_best.p', None)\n",
    "dict_ = pickle_load(path+'dict.p', None)"
   ]
  },
  {
   "cell_type": "code",
   "execution_count": null,
   "metadata": {},
   "outputs": [],
   "source": [
    "BO_vis.plot_weigths(data['x_tr'],data['x_v'])"
   ]
  },
  {
   "cell_type": "code",
   "execution_count": null,
   "metadata": {},
   "outputs": [],
   "source": [
    "# Set up the figure\n",
    "f, ax = plt.subplots(figsize=(8, 8))\n",
    "ax = sns.regplot(df.epoch, df.population_tr,label = 'train')\n",
    "ax = sns.regplot(df.epoch, df.population_v,label = 'val')\n",
    "ax = sns.regplot(df.epoch, df.population_t,label = 'test')\n",
    "plt.legend()"
   ]
  },
  {
   "cell_type": "code",
   "execution_count": null,
   "metadata": {},
   "outputs": [],
   "source": [
    "f, ax = plt.subplots(figsize=(8, 8))\n",
    "ax = sns.regplot(df.epoch, df.abs_diff_tv,label = 'test_val_diff')\n",
    "plt.legend()"
   ]
  },
  {
   "cell_type": "code",
   "execution_count": null,
   "metadata": {},
   "outputs": [],
   "source": [
    "BO_vis.plot_cma(data)"
   ]
  },
  {
   "cell_type": "code",
   "execution_count": null,
   "metadata": {},
   "outputs": [],
   "source": [
    "data['path_o'] = data['dict_config']['path_save']\n",
    "BO_vis.save_ROC_segment(data,'segmentation',cma = True)"
   ]
  },
  {
   "cell_type": "code",
   "execution_count": null,
   "metadata": {},
   "outputs": [],
   "source": [
    "data['path_o'] = data['dict_config']['path_save']\n",
    "BO_vis.save_ROC_segment(data,'location',cma = True)"
   ]
  },
  {
   "cell_type": "markdown",
   "metadata": {},
   "source": [
    "## plus sigmoid"
   ]
  },
  {
   "cell_type": "code",
   "execution_count": null,
   "metadata": {},
   "outputs": [],
   "source": [
    "dict_c = return_dict()\n",
    "dict_c['mode']   = 'sigmoid'\n",
    "dict_c['bounds'] = [0,100]\n",
    "path   = path_best.replace('bayes_opt','CMA_ES/pos_sigmoid')\n",
    "CMA_ES(dict_c).main(data,path,dict_)"
   ]
  },
  {
   "cell_type": "code",
   "execution_count": null,
   "metadata": {},
   "outputs": [],
   "source": [
    "df    = pickle_load(path+'best/df.p', None)\n",
    "data  = pickle_load(path+'best/data_best.p', None)\n",
    "dict_ = pickle_load(path+'dict.p', None)"
   ]
  },
  {
   "cell_type": "code",
   "execution_count": null,
   "metadata": {},
   "outputs": [],
   "source": [
    "BO_vis.plot_weigths(data['x_tr'],data['x_v'])"
   ]
  },
  {
   "cell_type": "code",
   "execution_count": null,
   "metadata": {},
   "outputs": [],
   "source": [
    "# Set up the figure\n",
    "f, ax = plt.subplots(figsize=(8, 8))\n",
    "ax = sns.regplot(df.epoch, df.population_tr,label = 'train')\n",
    "ax = sns.regplot(df.epoch, df.population_v,label = 'val')\n",
    "ax = sns.regplot(df.epoch, df.population_t,label = 'test')\n",
    "plt.legend()"
   ]
  },
  {
   "cell_type": "code",
   "execution_count": null,
   "metadata": {},
   "outputs": [],
   "source": [
    "f, ax = plt.subplots(figsize=(8, 8))\n",
    "ax = sns.regplot(df.epoch, df.abs_diff_tv,label = 'test_val_diff')\n",
    "plt.legend()"
   ]
  },
  {
   "cell_type": "code",
   "execution_count": null,
   "metadata": {},
   "outputs": [],
   "source": [
    "BO_vis.plot_cma(data)"
   ]
  },
  {
   "cell_type": "code",
   "execution_count": null,
   "metadata": {},
   "outputs": [],
   "source": [
    "data['path_o'] = data['dict_config']['path_save']\n",
    "BO_vis.save_ROC_segment(data,'segmentation',cma = True)"
   ]
  },
  {
   "cell_type": "code",
   "execution_count": null,
   "metadata": {},
   "outputs": [],
   "source": [
    "data['path_o'] = data['dict_config']['path_save']\n",
    "BO_vis.save_ROC_segment(data,'location',cma = True)"
   ]
  },
  {
   "cell_type": "markdown",
   "metadata": {},
   "source": [
    "## plus leaky relu"
   ]
  },
  {
   "cell_type": "code",
   "execution_count": null,
   "metadata": {
    "scrolled": true
   },
   "outputs": [],
   "source": [
    "dict_c = return_dict()\n",
    "dict_c['mode']   = 'leaky_relu'\n",
    "dict_c['bounds'] = [0,100]\n",
    "dict_c['evals']   = 300*23\n",
    "dict_c['pop_size']= 23\n",
    "\n",
    "path   = path_best.replace('bayes_opt','CMA_ES/leaky_relu')\n",
    "CMA_ES(dict_c).main(data,path,dict_)"
   ]
  },
  {
   "cell_type": "code",
   "execution_count": null,
   "metadata": {},
   "outputs": [],
   "source": [
    "df    = pickle_load(path+'best/df.p', None)\n",
    "data  = pickle_load(path+'best/data_best.p', None)\n",
    "dict_ = pickle_load(path+'dict.p', None)"
   ]
  },
  {
   "cell_type": "code",
   "execution_count": null,
   "metadata": {},
   "outputs": [],
   "source": [
    "BO_vis.plot_weigths(data['x_tr'][360:],data['x_v'][360:])\n",
    "BO_vis.plot_weigths(data['x_tr'][:360],data['x_v'][:360])"
   ]
  },
  {
   "cell_type": "code",
   "execution_count": null,
   "metadata": {},
   "outputs": [],
   "source": [
    "# Set up the figure\n",
    "f, ax = plt.subplots(figsize=(8, 8))\n",
    "ax = sns.regplot(df.epoch, df.population_tr,label = 'train')\n",
    "ax = sns.regplot(df.epoch, df.population_v,label = 'val')\n",
    "ax = sns.regplot(df.epoch, df.population_t,label = 'test')\n",
    "plt.legend()"
   ]
  },
  {
   "cell_type": "code",
   "execution_count": null,
   "metadata": {},
   "outputs": [],
   "source": [
    "f, ax = plt.subplots(figsize=(8, 8))\n",
    "ax = sns.regplot(df.epoch, df.abs_diff_tv,label = 'test_val_diff')\n",
    "plt.legend()"
   ]
  },
  {
   "cell_type": "code",
   "execution_count": null,
   "metadata": {},
   "outputs": [],
   "source": [
    "BO_vis.plot_cma(data)"
   ]
  },
  {
   "cell_type": "code",
   "execution_count": null,
   "metadata": {},
   "outputs": [],
   "source": [
    "data['path_o'] = data['dict_config']['path_save']\n",
    "BO_vis.save_ROC_segment(data,'segmentation',cma = True)"
   ]
  },
  {
   "cell_type": "code",
   "execution_count": null,
   "metadata": {},
   "outputs": [],
   "source": [
    "data['path_o'] = data['dict_config']['path_save']\n",
    "BO_vis.save_ROC_segment(data,'location',cma = True)"
   ]
  },
  {
   "cell_type": "code",
   "execution_count": null,
   "metadata": {},
   "outputs": [],
   "source": []
  },
  {
   "cell_type": "code",
   "execution_count": null,
   "metadata": {},
   "outputs": [],
   "source": []
  },
  {
   "cell_type": "markdown",
   "metadata": {},
   "source": [
    "# DEEP2"
   ]
  },
  {
   "cell_type": "code",
   "execution_count": null,
   "metadata": {},
   "outputs": [],
   "source": [
    "# path                                  =  './models/CMA_ES/DEEP2/'\n",
    "# path_a                                = [path]\n",
    "# RD                                    = retrieve_data()\n",
    "# df,dict_,path_best                    = RD.get_max_CMA(path)\n",
    "\n",
    "\n",
    "# BO_vis                                = plotting_tool(dict_['dict_config'])\n",
    "\n",
    "# df                                     = df[df['epoch'] < 150]\n",
    "# array_AUC_tr_a                         = RD.get_all_cma(path_a,'AUC_tr')\n",
    "# array_AUC_v_a                          = RD.get_all_cma(path_a,'AUC_v')\n",
    "# array_AUC_t_a                          = RD.get_all_cma(path_a,'AUC_t')"
   ]
  },
  {
   "cell_type": "code",
   "execution_count": null,
   "metadata": {
    "scrolled": true
   },
   "outputs": [],
   "source": [
    "fig = plt.figure(figsize=(16,4))\n",
    "\n",
    "ax1 = plt.subplot(141)\n",
    "ax1 = plt.hist(array_AUC_tr_a)\n",
    "\n",
    "ax2 = plt.subplot(142)\n",
    "ax2 = plt.hist(array_AUC_v_a)\n",
    "\n",
    "ax3 = plt.subplot(143)\n",
    "ax3 = plt.hist(array_AUC_t_a)\n",
    "\n",
    "\n",
    "ax4 = plt.subplot(144)\n",
    "ax4 = plt.plot(array_AUC_tr_a,label = 'train')\n",
    "ax4 = plt.plot(array_AUC_v_a,label = 'val')\n",
    "ax4 = plt.plot(array_AUC_t_a,label = 'test')\n",
    "plt.legend()\n",
    "plt.show()\n"
   ]
  },
  {
   "cell_type": "code",
   "execution_count": null,
   "metadata": {},
   "outputs": [],
   "source": [
    "BO_vis.plot_weigths(dict_['x_tr'],dict_['x_v'])"
   ]
  },
  {
   "cell_type": "code",
   "execution_count": null,
   "metadata": {},
   "outputs": [],
   "source": [
    "# Set up the figure\n",
    "f, ax = plt.subplots(figsize=(8, 8))\n",
    "\n",
    "\n",
    "\n",
    "ax = sns.regplot(df.epoch, df.population_tr,label = 'train')\n",
    "ax = sns.regplot(df.epoch, df.population_v,label = 'val')\n",
    "ax = sns.regplot(df.epoch, df.population_t,label = 'test')\n",
    "plt.legend()\n",
    "plt.savefig('./plots/pic/CMA_training')"
   ]
  },
  {
   "cell_type": "code",
   "execution_count": null,
   "metadata": {},
   "outputs": [],
   "source": [
    "BO_vis.plot_cma(dict_)"
   ]
  },
  {
   "cell_type": "code",
   "execution_count": null,
   "metadata": {},
   "outputs": [],
   "source": [
    "dict_['path_o'] = dict_['dict_config']['path_save']\n",
    "BO_vis.save_ROC_segment(dict_,'segmentation',cma = True)"
   ]
  },
  {
   "cell_type": "code",
   "execution_count": null,
   "metadata": {},
   "outputs": [],
   "source": [
    "dict_['path_o'] = dict_['dict_config']['path_save']\n",
    "BO_vis.save_ROC_segment(dict_,'location',cma = True)"
   ]
  },
  {
   "cell_type": "code",
   "execution_count": null,
   "metadata": {},
   "outputs": [],
   "source": [
    "dict_c = {\n",
    "        'path'       :  path_best+'/',\n",
    "        'mode'       : 'df_t_train',\n",
    "\n",
    "        'path_dict'  : path_best+'/dict.p',\n",
    "\n",
    "        'plot_mode'  : 'error'\n",
    "\n",
    "\n",
    "}\n",
    "vis = main_visualize(dict_c)\n",
    "vis.play_videos()\n"
   ]
  },
  {
   "cell_type": "code",
   "execution_count": null,
   "metadata": {},
   "outputs": [],
   "source": [
    "path_best+'/dict.p'"
   ]
  }
 ],
 "metadata": {
  "kernelspec": {
   "display_name": "Python 3",
   "language": "python",
   "name": "python3"
  },
  "language_info": {
   "codemirror_mode": {
    "name": "ipython",
    "version": 3
   },
   "file_extension": ".py",
   "mimetype": "text/x-python",
   "name": "python",
   "nbconvert_exporter": "python",
   "pygments_lexer": "ipython3",
   "version": "3.6.3"
  }
 },
 "nbformat": 4,
 "nbformat_minor": 2
}

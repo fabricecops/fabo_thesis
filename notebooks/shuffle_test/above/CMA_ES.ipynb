{
 "cells": [
  {
   "cell_type": "code",
   "execution_count": 2,
   "metadata": {},
   "outputs": [],
   "source": [
    "import os\n",
    "import sys\n",
    "import shutil\n",
    "import dotenv\n",
    "from   dotenv import find_dotenv, load_dotenv\n",
    "import matplotlib\n",
    "load_dotenv(find_dotenv())\n",
    "PATH_P     = os.environ['PATH_P']\n",
    "os.chdir(PATH_P)\n",
    "sys.path.insert(0, PATH_P)\n",
    "import pandas as pd\n",
    "from src.dst.outputhandler.pickle import tic,toc,pickle_save_,pickle_load\n",
    "from src.dst.plots.plots import plotting_tool,retrieve_data,SeabornFig2Grid\n",
    "from src.visualization.vis_LSTM_p.main import main_visualize\n",
    "\n",
    "import matplotlib.pyplot as plt\n",
    "import matplotlib.gridspec as gridspec\n",
    "import seaborn as sns\n",
    "from src.visualization.vis_LSTM_p.main import main_visualize\n",
    "from src.models.CMA_ES.CMA_ES import CMA_ES"
   ]
  },
  {
   "cell_type": "markdown",
   "metadata": {},
   "source": [
    "# DEEP2"
   ]
  },
  {
   "cell_type": "code",
   "execution_count": null,
   "metadata": {},
   "outputs": [],
   "source": [
    "# path                                  =  './models/CMA_ES/DEEP2/'\n",
    "# path_a                                = [path]\n",
    "# RD                                    = retrieve_data()\n",
    "# df,dict_,path_best                    = RD.get_max_CMA(path)\n",
    "\n",
    "\n",
    "# BO_vis                                = plotting_tool(dict_['dict_config'])\n",
    "\n",
    "# df                                     = df[df['epoch'] < 150]\n",
    "# array_AUC_tr_a                         = RD.get_all_cma(path_a,'AUC_tr')\n",
    "# array_AUC_v_a                          = RD.get_all_cma(path_a,'AUC_v')\n",
    "# array_AUC_t_a                          = RD.get_all_cma(path_a,'AUC_t')"
   ]
  },
  {
   "cell_type": "code",
   "execution_count": null,
   "metadata": {
    "scrolled": true
   },
   "outputs": [],
   "source": [
    "fig = plt.figure(figsize=(16,4))\n",
    "\n",
    "ax1 = plt.subplot(141)\n",
    "ax1 = plt.hist(array_AUC_tr_a)\n",
    "\n",
    "ax2 = plt.subplot(142)\n",
    "ax2 = plt.hist(array_AUC_v_a)\n",
    "\n",
    "ax3 = plt.subplot(143)\n",
    "ax3 = plt.hist(array_AUC_t_a)\n",
    "\n",
    "\n",
    "ax4 = plt.subplot(144)\n",
    "ax4 = plt.plot(array_AUC_tr_a,label = 'train')\n",
    "ax4 = plt.plot(array_AUC_v_a,label = 'val')\n",
    "ax4 = plt.plot(array_AUC_t_a,label = 'test')\n",
    "plt.legend()\n",
    "plt.show()\n"
   ]
  },
  {
   "cell_type": "code",
   "execution_count": null,
   "metadata": {},
   "outputs": [],
   "source": [
    "BO_vis.plot_weigths(dict_['x_tr'],dict_['x_v'])"
   ]
  },
  {
   "cell_type": "code",
   "execution_count": null,
   "metadata": {},
   "outputs": [],
   "source": [
    "# Set up the figure\n",
    "f, ax = plt.subplots(figsize=(8, 8))\n",
    "\n",
    "\n",
    "\n",
    "ax = sns.regplot(df.epoch, df.population_tr,label = 'train')\n",
    "ax = sns.regplot(df.epoch, df.population_v,label = 'val')\n",
    "ax = sns.regplot(df.epoch, df.population_t,label = 'test')\n",
    "plt.legend()\n",
    "plt.savefig('./plots/pic/CMA_training')"
   ]
  },
  {
   "cell_type": "code",
   "execution_count": null,
   "metadata": {},
   "outputs": [],
   "source": [
    "BO_vis.plot_cma(dict_)"
   ]
  },
  {
   "cell_type": "code",
   "execution_count": null,
   "metadata": {},
   "outputs": [],
   "source": [
    "dict_['path_o'] = dict_['dict_config']['path_save']\n",
    "BO_vis.save_ROC_segment(dict_,'segmentation',cma = True)"
   ]
  },
  {
   "cell_type": "code",
   "execution_count": null,
   "metadata": {},
   "outputs": [],
   "source": [
    "dict_['path_o'] = dict_['dict_config']['path_save']\n",
    "BO_vis.save_ROC_segment(dict_,'location',cma = True)"
   ]
  },
  {
   "cell_type": "code",
   "execution_count": null,
   "metadata": {},
   "outputs": [],
   "source": [
    "dict_c = {\n",
    "        'path'       :  path_best+'/',\n",
    "        'mode'       : 'df_t_train',\n",
    "\n",
    "        'path_dict'  : path_best+'/dict.p',\n",
    "\n",
    "        'plot_mode'  : 'error'\n",
    "\n",
    "\n",
    "}\n",
    "vis = main_visualize(dict_c)\n",
    "vis.play_videos()\n"
   ]
  },
  {
   "cell_type": "code",
   "execution_count": null,
   "metadata": {},
   "outputs": [],
   "source": [
    "path_best+'/dict.p'"
   ]
  },
  {
   "cell_type": "markdown",
   "metadata": {},
   "source": [
    "## experiments"
   ]
  },
  {
   "cell_type": "markdown",
   "metadata": {},
   "source": [
    "## Min plus linear"
   ]
  },
  {
   "cell_type": "code",
   "execution_count": 3,
   "metadata": {
    "scrolled": true
   },
   "outputs": [
    {
     "name": "stdout",
     "output_type": "stream",
     "text": [
      "lr           : 0.001267345303142497\n",
      "time_dim     : 20\n",
      "encoder      : [240, 443]\n",
      "decoder      : [470]\n",
      "vector       : 240\n",
      "AUC_v        : 0.7134902394733854\n"
     ]
    }
   ],
   "source": [
    "path                                  =  './models/segmentated_shuffle/bayes_opt/DEEP2/'\n",
    "RD                                    = retrieve_data()\n",
    "data,dict_,path_best,hist             = RD.get_best_D1(path)\n",
    "data['df_t_val_train']                = pd.concat([data['df_t_train'],data['df_t_val']])\n",
    "AUC_v_a                               = RD.get_all(path,'AUC_v')\n",
    "\n",
    "val_loss_a                            = RD.get_all(path,'val_f')\n",
    "dict_['AUC_v']                        = data['AUC_v']\n",
    "\n",
    "RD.print_dict(dict_)\n",
    "\n",
    "str_list                              = data['path_o'].split('/')\n",
    "data['path_o']                        =  './models/segmentated_shuffle/bayes_opt/DEEP2/'+str_list[-2]+'/'\n",
    "BO_vis                                = plotting_tool(dict_)"
   ]
  },
  {
   "cell_type": "code",
   "execution_count": 5,
   "metadata": {},
   "outputs": [],
   "source": [
    "def return_dict():\n",
    "    dict_c = {\n",
    "        'path_i'   : './models/bayes_opt/DEEP2/',\n",
    "        'path_save': './models/CMA_ES/DEEP2/',\n",
    "\n",
    "        'resolution_AUC': 1000,\n",
    "\n",
    "        ###### CMA_ES    ######\n",
    "        'CMA_ES': True,\n",
    "        'verbose_CMA': 1,\n",
    "        'verbose_CMA_log': 0,\n",
    "        'evals': 21*300,\n",
    "        'bounds': [-100., 100.],\n",
    "        'sigma': 0.4222222222222225,\n",
    "        'progress_ST': 0.3,\n",
    "        'popsize'    : 21,\n",
    "        \n",
    "        'mode'       : 'linear',\n",
    "\n",
    "        'epoch': 0\n",
    "\n",
    "    }\n",
    "\n",
    "    return dict_c"
   ]
  },
  {
   "cell_type": "code",
   "execution_count": null,
   "metadata": {
    "scrolled": true
   },
   "outputs": [
    {
     "name": "stdout",
     "output_type": "stream",
     "text": [
      "(10_w,21)-aCMA-ES (mu_w=6.2,w_1=27%) in dimension 360 (seed=661601, Sat May  5 13:37:53 2018)\n",
      "Iterat #Fevals   function value  axis ratio  sigma  min&max std  t[m:s]\n",
      "    1     21 -7.539826074905588e-01 1.0e+00 4.15e-01  4e-01  4e-01 0:26.4\n",
      "    2     42 -7.549007379690261e-01 1.0e+00 4.09e-01  4e-01  4e-01 0:29.7\n",
      "    3     63 -7.606866923050272e-01 1.0e+00 4.04e-01  4e-01  4e-01 0:34.3\n",
      "    4     84 -7.636662855559022e-01 1.0e+00 3.99e-01  4e-01  4e-01 0:38.2\n",
      "    5    105 -7.682638672348683e-01 1.0e+00 3.94e-01  4e-01  4e-01 0:41.6\n",
      "    6    126 -7.734053979142846e-01 1.0e+00 3.91e-01  4e-01  4e-01 0:44.6\n",
      "    7    147 -7.757336382219451e-01 1.0e+00 3.87e-01  4e-01  4e-01 0:47.7\n",
      "    8    168 -7.779406160135813e-01 1.0e+00 3.84e-01  4e-01  4e-01 0:50.7\n",
      "    9    189 -7.831098638395179e-01 1.0e+00 3.82e-01  4e-01  4e-01 0:53.9\n",
      "   10    210 -7.831098638395176e-01 1.0e+00 3.79e-01  4e-01  4e-01 0:57.3\n"
     ]
    }
   ],
   "source": [
    "dict_c = return_dict()\n",
    "path   = path_best.replace('bayes_opt','CMA_ES/min_pos_linear')\n",
    "CMA_ES(dict_c).main(data,path,dict_)"
   ]
  },
  {
   "cell_type": "code",
   "execution_count": null,
   "metadata": {},
   "outputs": [],
   "source": [
    "path   "
   ]
  },
  {
   "cell_type": "code",
   "execution_count": null,
   "metadata": {},
   "outputs": [],
   "source": [
    "df    = pickle_load(path+'best/df.p', None)\n",
    "data  = pickle_load(path+'best/data_best.p', None)\n",
    "dict_ = pickle_load(path+'dict.p', None)"
   ]
  },
  {
   "cell_type": "code",
   "execution_count": null,
   "metadata": {},
   "outputs": [],
   "source": [
    "BO_vis.plot_weigths(data['x_tr'],data['x_v'])"
   ]
  },
  {
   "cell_type": "code",
   "execution_count": null,
   "metadata": {},
   "outputs": [],
   "source": [
    "# Set up the figure\n",
    "f, ax = plt.subplots(figsize=(8, 8))\n",
    "ax = sns.regplot(df.epoch, df.population_tr,label = 'train')\n",
    "ax = sns.regplot(df.epoch, df.population_v,label = 'val')\n",
    "ax = sns.regplot(df.epoch, df.population_t,label = 'test')\n",
    "plt.legend()"
   ]
  },
  {
   "cell_type": "code",
   "execution_count": null,
   "metadata": {
    "scrolled": true
   },
   "outputs": [],
   "source": [
    "f, ax = plt.subplots(figsize=(8, 8))\n",
    "ax = sns.regplot(df.epoch, df.abs_diff_tv,label = 'test_val_diff')\n",
    "plt.legend()\n"
   ]
  },
  {
   "cell_type": "code",
   "execution_count": null,
   "metadata": {
    "scrolled": true
   },
   "outputs": [],
   "source": [
    "BO_vis.plot_cma(data)"
   ]
  },
  {
   "cell_type": "code",
   "execution_count": null,
   "metadata": {},
   "outputs": [],
   "source": [
    "data['path_o'] = data['dict_config']['path_save']\n",
    "BO_vis.save_ROC_segment(data,'segmentation',cma = True)"
   ]
  },
  {
   "cell_type": "code",
   "execution_count": null,
   "metadata": {},
   "outputs": [],
   "source": [
    "data['path_o'] = data['dict_config']['path_save']\n",
    "BO_vis.save_ROC_segment(data,'location',cma = True)"
   ]
  },
  {
   "cell_type": "markdown",
   "metadata": {},
   "source": [
    "## plus linear"
   ]
  },
  {
   "cell_type": "code",
   "execution_count": null,
   "metadata": {},
   "outputs": [],
   "source": [
    "path                                  =  './models/segmentated_shuffle/bayes_opt/DEEP2/'\n",
    "RD                                    = retrieve_data()\n",
    "data,dict_,path_best,hist             = RD.get_best_D1(path)\n",
    "data['df_t_val_train']                = pd.concat([data['df_t_train'],data['df_t_val']])\n",
    "AUC_v_a                               = RD.get_all(path,'AUC_v')\n",
    "\n",
    "val_loss_a                            = RD.get_all(path,'val_f')\n",
    "dict_['AUC_v']                        = data['AUC_v']\n",
    "\n",
    "RD.print_dict(dict_)\n",
    "\n",
    "str_list                              = data['path_o'].split('/')\n",
    "data['path_o']                        =  './models/segmentated_shuffle/bayes_opt/DEEP2/'+str_list[-2]+'/'\n",
    "BO_vis                                = plotting_tool(dict_)"
   ]
  },
  {
   "cell_type": "code",
   "execution_count": null,
   "metadata": {},
   "outputs": [],
   "source": [
    "def return_dict():\n",
    "    dict_c = {\n",
    "        'path_i'   : './models/bayes_opt/DEEP2/',\n",
    "        'path_save': './models/CMA_ES/DEEP2/',\n",
    "\n",
    "        'resolution_AUC': 1000,\n",
    "\n",
    "        ###### CMA_ES    ######\n",
    "        'CMA_ES': True,\n",
    "        'verbose_CMA': 1,\n",
    "        'verbose_CMA_log': 0,\n",
    "        'evals': 21*300,\n",
    "        'bounds': [-100., 100.],\n",
    "        'sigma': 0.4222222222222225,\n",
    "        'progress_ST': 0.3,\n",
    "        'popsize'    : 21,\n",
    "        'mode'       : 'linear'\n",
    "\n",
    "        'epoch': 0\n",
    "\n",
    "    }\n",
    "\n",
    "    return dict_c"
   ]
  },
  {
   "cell_type": "code",
   "execution_count": null,
   "metadata": {},
   "outputs": [],
   "source": [
    "dict_c = return_dict()\n",
    "path   = path_best.replace('bayes_opt','CMA_ES/pos_linear')\n",
    "CMA_ES(dict_c).main(data,path,dict_)"
   ]
  },
  {
   "cell_type": "code",
   "execution_count": null,
   "metadata": {},
   "outputs": [],
   "source": [
    "df    = pickle_load(path+'best/df.p', None)\n",
    "data  = pickle_load(path+'best/data_best.p', None)\n",
    "dict_ = pickle_load(path+'dict.p', None)"
   ]
  },
  {
   "cell_type": "code",
   "execution_count": null,
   "metadata": {},
   "outputs": [],
   "source": [
    "BO_vis.plot_weigths(data['x_tr'],data['x_v'])"
   ]
  },
  {
   "cell_type": "code",
   "execution_count": null,
   "metadata": {},
   "outputs": [],
   "source": [
    "# Set up the figure\n",
    "f, ax = plt.subplots(figsize=(8, 8))\n",
    "ax = sns.regplot(df.epoch, df.population_tr,label = 'train')\n",
    "ax = sns.regplot(df.epoch, df.population_v,label = 'val')\n",
    "ax = sns.regplot(df.epoch, df.population_t,label = 'test')\n",
    "plt.legend()"
   ]
  },
  {
   "cell_type": "code",
   "execution_count": null,
   "metadata": {},
   "outputs": [],
   "source": [
    "f, ax = plt.subplots(figsize=(8, 8))\n",
    "ax = sns.regplot(df.epoch, df.abs_diff_tv,label = 'test_val_diff')\n",
    "plt.legend()"
   ]
  },
  {
   "cell_type": "code",
   "execution_count": null,
   "metadata": {},
   "outputs": [],
   "source": [
    "BO_vis.plot_cma(data)"
   ]
  },
  {
   "cell_type": "code",
   "execution_count": null,
   "metadata": {},
   "outputs": [],
   "source": [
    "data['path_o'] = data['dict_config']['path_save']\n",
    "BO_vis.save_ROC_segment(data,'segmentation',cma = True)"
   ]
  },
  {
   "cell_type": "code",
   "execution_count": null,
   "metadata": {},
   "outputs": [],
   "source": [
    "data['path_o'] = data['dict_config']['path_save']\n",
    "BO_vis.save_ROC_segment(data,'location',cma = True)"
   ]
  },
  {
   "cell_type": "markdown",
   "metadata": {},
   "source": [
    "## plus min sigmoid"
   ]
  },
  {
   "cell_type": "code",
   "execution_count": null,
   "metadata": {},
   "outputs": [],
   "source": [
    "path                                  =  './models/segmentated_shuffle/bayes_opt/DEEP2/'\n",
    "RD                                    = retrieve_data()\n",
    "data,dict_,path_best,hist             = RD.get_best_D1(path)\n",
    "data['df_t_val_train']                = pd.concat([data['df_t_train'],data['df_t_val']])\n",
    "AUC_v_a                               = RD.get_all(path,'AUC_v')\n",
    "\n",
    "val_loss_a                            = RD.get_all(path,'val_f')\n",
    "dict_['AUC_v']                        = data['AUC_v']\n",
    "\n",
    "RD.print_dict(dict_)\n",
    "\n",
    "str_list                              = data['path_o'].split('/')\n",
    "data['path_o']                        =  './models/segmentated_shuffle/bayes_opt/DEEP2/'+str_list[-2]+'/'\n",
    "BO_vis                                = plotting_tool(dict_)"
   ]
  },
  {
   "cell_type": "code",
   "execution_count": null,
   "metadata": {},
   "outputs": [],
   "source": [
    "def return_dict():\n",
    "    dict_c = {\n",
    "        'path_i'   : './models/bayes_opt/DEEP2/',\n",
    "        'path_save': './models/CMA_ES/DEEP2/',\n",
    "\n",
    "        'resolution_AUC': 1000,\n",
    "\n",
    "        ###### CMA_ES    ######\n",
    "        'CMA_ES': True,\n",
    "        'verbose_CMA': 1,\n",
    "        'verbose_CMA_log': 0,\n",
    "        'evals': 21*300,\n",
    "        'bounds': [-100., 100.],\n",
    "        'sigma': 0.4222222222222225,\n",
    "        'progress_ST': 0.3,\n",
    "        'popsize'    : 21,\n",
    "        'mode'       : 'sigmoid'\n",
    "\n",
    "        'epoch': 0\n",
    "\n",
    "    }\n",
    "\n",
    "    return dict_c"
   ]
  },
  {
   "cell_type": "code",
   "execution_count": null,
   "metadata": {},
   "outputs": [],
   "source": [
    "dict_c = return_dict()\n",
    "path   = path_best.replace('bayes_opt','CMA_ES/pos_min_sigmoid')\n",
    "CMA_ES(dict_c).main(data,path,dict_)"
   ]
  },
  {
   "cell_type": "code",
   "execution_count": null,
   "metadata": {},
   "outputs": [],
   "source": [
    "df    = pickle_load(path+'best/df.p', None)\n",
    "data  = pickle_load(path+'best/data_best.p', None)\n",
    "dict_ = pickle_load(path+'dict.p', None)"
   ]
  },
  {
   "cell_type": "code",
   "execution_count": null,
   "metadata": {},
   "outputs": [],
   "source": [
    "BO_vis.plot_weigths(data['x_tr'],data['x_v'])"
   ]
  },
  {
   "cell_type": "code",
   "execution_count": null,
   "metadata": {},
   "outputs": [],
   "source": [
    "# Set up the figure\n",
    "f, ax = plt.subplots(figsize=(8, 8))\n",
    "ax = sns.regplot(df.epoch, df.population_tr,label = 'train')\n",
    "ax = sns.regplot(df.epoch, df.population_v,label = 'val')\n",
    "ax = sns.regplot(df.epoch, df.population_t,label = 'test')\n",
    "plt.legend()"
   ]
  },
  {
   "cell_type": "code",
   "execution_count": null,
   "metadata": {},
   "outputs": [],
   "source": [
    "f, ax = plt.subplots(figsize=(8, 8))\n",
    "ax = sns.regplot(df.epoch, df.abs_diff_tv,label = 'test_val_diff')\n",
    "plt.legend()"
   ]
  },
  {
   "cell_type": "code",
   "execution_count": null,
   "metadata": {},
   "outputs": [],
   "source": [
    "BO_vis.plot_cma(data)"
   ]
  },
  {
   "cell_type": "code",
   "execution_count": null,
   "metadata": {},
   "outputs": [],
   "source": [
    "data['path_o'] = data['dict_config']['path_save']\n",
    "BO_vis.save_ROC_segment(data,'segmentation',cma = True)"
   ]
  },
  {
   "cell_type": "code",
   "execution_count": null,
   "metadata": {},
   "outputs": [],
   "source": [
    "data['path_o'] = data['dict_config']['path_save']\n",
    "BO_vis.save_ROC_segment(data,'location',cma = True)"
   ]
  },
  {
   "cell_type": "markdown",
   "metadata": {},
   "source": [
    "## plus min relu"
   ]
  },
  {
   "cell_type": "code",
   "execution_count": null,
   "metadata": {},
   "outputs": [],
   "source": [
    "path                                  =  './models/segmentated_shuffle/bayes_opt/DEEP2/'\n",
    "RD                                    = retrieve_data()\n",
    "data,dict_,path_best,hist             = RD.get_best_D1(path)\n",
    "data['df_t_val_train']                = pd.concat([data['df_t_train'],data['df_t_val']])\n",
    "AUC_v_a                               = RD.get_all(path,'AUC_v')\n",
    "\n",
    "val_loss_a                            = RD.get_all(path,'val_f')\n",
    "dict_['AUC_v']                        = data['AUC_v']\n",
    "\n",
    "RD.print_dict(dict_)\n",
    "\n",
    "str_list                              = data['path_o'].split('/')\n",
    "data['path_o']                        =  './models/segmentated_shuffle/bayes_opt/DEEP2/'+str_list[-2]+'/'\n",
    "BO_vis                                = plotting_tool(dict_)"
   ]
  },
  {
   "cell_type": "code",
   "execution_count": null,
   "metadata": {},
   "outputs": [],
   "source": [
    "def return_dict():\n",
    "    dict_c = {\n",
    "        'path_i'   : './models/bayes_opt/DEEP2/',\n",
    "        'path_save': './models/CMA_ES/DEEP2/',\n",
    "\n",
    "        'resolution_AUC': 1000,\n",
    "\n",
    "        ###### CMA_ES    ######\n",
    "        'CMA_ES': True,\n",
    "        'verbose_CMA': 1,\n",
    "        'verbose_CMA_log': 0,\n",
    "        'evals': 21*300,\n",
    "        'bounds': [-100., 100.],\n",
    "        'sigma': 0.4222222222222225,\n",
    "        'progress_ST': 0.3,\n",
    "        'popsize'    : 21,\n",
    "        'mode'       : 'relu'\n",
    "\n",
    "        'epoch': 0\n",
    "\n",
    "    }\n",
    "\n",
    "    return dict_c"
   ]
  },
  {
   "cell_type": "code",
   "execution_count": null,
   "metadata": {},
   "outputs": [],
   "source": [
    "dict_c = return_dict()\n",
    "path   = path_best.replace('bayes_opt','CMA_ES/pos_min_relu')\n",
    "CMA_ES(dict_c).main(data,path,dict_)"
   ]
  },
  {
   "cell_type": "code",
   "execution_count": null,
   "metadata": {},
   "outputs": [],
   "source": [
    "df    = pickle_load(path+'best/df.p', None)\n",
    "data  = pickle_load(path+'best/data_best.p', None)\n",
    "dict_ = pickle_load(path+'dict.p', None)"
   ]
  },
  {
   "cell_type": "code",
   "execution_count": null,
   "metadata": {},
   "outputs": [],
   "source": [
    "BO_vis.plot_weigths(data['x_tr'],data['x_v'])"
   ]
  },
  {
   "cell_type": "code",
   "execution_count": null,
   "metadata": {},
   "outputs": [],
   "source": [
    "# Set up the figure\n",
    "f, ax = plt.subplots(figsize=(8, 8))\n",
    "ax = sns.regplot(df.epoch, df.population_tr,label = 'train')\n",
    "ax = sns.regplot(df.epoch, df.population_v,label = 'val')\n",
    "ax = sns.regplot(df.epoch, df.population_t,label = 'test')\n",
    "plt.legend()"
   ]
  },
  {
   "cell_type": "code",
   "execution_count": null,
   "metadata": {},
   "outputs": [],
   "source": [
    "f, ax = plt.subplots(figsize=(8, 8))\n",
    "ax = sns.regplot(df.epoch, df.abs_diff_tv,label = 'test_val_diff')\n",
    "plt.legend()"
   ]
  },
  {
   "cell_type": "code",
   "execution_count": null,
   "metadata": {},
   "outputs": [],
   "source": [
    "BO_vis.plot_cma(data)"
   ]
  },
  {
   "cell_type": "code",
   "execution_count": null,
   "metadata": {},
   "outputs": [],
   "source": [
    "data['path_o'] = data['dict_config']['path_save']\n",
    "BO_vis.save_ROC_segment(data,'segmentation',cma = True)"
   ]
  },
  {
   "cell_type": "code",
   "execution_count": null,
   "metadata": {},
   "outputs": [],
   "source": [
    "data['path_o'] = data['dict_config']['path_save']\n",
    "BO_vis.save_ROC_segment(data,'location',cma = True)"
   ]
  },
  {
   "cell_type": "markdown",
   "metadata": {},
   "source": [
    "## plus min leaky relu"
   ]
  },
  {
   "cell_type": "code",
   "execution_count": null,
   "metadata": {},
   "outputs": [],
   "source": [
    "path                                  =  './models/segmentated_shuffle/bayes_opt/DEEP2/'\n",
    "RD                                    = retrieve_data()\n",
    "data,dict_,path_best,hist             = RD.get_best_D1(path)\n",
    "data['df_t_val_train']                = pd.concat([data['df_t_train'],data['df_t_val']])\n",
    "AUC_v_a                               = RD.get_all(path,'AUC_v')\n",
    "\n",
    "val_loss_a                            = RD.get_all(path,'val_f')\n",
    "dict_['AUC_v']                        = data['AUC_v']\n",
    "\n",
    "RD.print_dict(dict_)\n",
    "\n",
    "str_list                              = data['path_o'].split('/')\n",
    "data['path_o']                        =  './models/segmentated_shuffle/bayes_opt/DEEP2/'+str_list[-2]+'/'\n",
    "BO_vis                                = plotting_tool(dict_)"
   ]
  },
  {
   "cell_type": "code",
   "execution_count": null,
   "metadata": {},
   "outputs": [],
   "source": [
    "def return_dict():\n",
    "    dict_c = {\n",
    "        'path_i'   : './models/bayes_opt/DEEP2/',\n",
    "        'path_save': './models/CMA_ES/DEEP2/',\n",
    "\n",
    "        'resolution_AUC': 1000,\n",
    "\n",
    "        ###### CMA_ES    ######\n",
    "        'CMA_ES': True,\n",
    "        'verbose_CMA': 1,\n",
    "        'verbose_CMA_log': 0,\n",
    "        'evals': 21*300,\n",
    "        'bounds': [-100., 100.],\n",
    "        'sigma': 0.4222222222222225,\n",
    "        'progress_ST': 0.3,\n",
    "        'popsize'    : 21,\n",
    "        'mode'       : 'leaky_relu'\n",
    "\n",
    "        'epoch': 0\n",
    "\n",
    "    }\n",
    "\n",
    "    return dict_c"
   ]
  },
  {
   "cell_type": "code",
   "execution_count": null,
   "metadata": {},
   "outputs": [],
   "source": [
    "dict_c = return_dict()\n",
    "path   = path_best.replace('bayes_opt','CMA_ES/pos_min_leaky_relu')\n",
    "CMA_ES(dict_c).main(data,path,dict_)"
   ]
  },
  {
   "cell_type": "code",
   "execution_count": null,
   "metadata": {},
   "outputs": [],
   "source": [
    "df    = pickle_load(path+'best/df.p', None)\n",
    "data  = pickle_load(path+'best/data_best.p', None)\n",
    "dict_ = pickle_load(path+'dict.p', None)"
   ]
  },
  {
   "cell_type": "code",
   "execution_count": null,
   "metadata": {},
   "outputs": [],
   "source": [
    "BO_vis.plot_weigths(data['x_tr'],data['x_v'])"
   ]
  },
  {
   "cell_type": "code",
   "execution_count": null,
   "metadata": {},
   "outputs": [],
   "source": [
    "# Set up the figure\n",
    "f, ax = plt.subplots(figsize=(8, 8))\n",
    "ax = sns.regplot(df.epoch, df.population_tr,label = 'train')\n",
    "ax = sns.regplot(df.epoch, df.population_v,label = 'val')\n",
    "ax = sns.regplot(df.epoch, df.population_t,label = 'test')\n",
    "plt.legend()"
   ]
  },
  {
   "cell_type": "code",
   "execution_count": null,
   "metadata": {},
   "outputs": [],
   "source": [
    "f, ax = plt.subplots(figsize=(8, 8))\n",
    "ax = sns.regplot(df.epoch, df.abs_diff_tv,label = 'test_val_diff')\n",
    "plt.legend()"
   ]
  },
  {
   "cell_type": "code",
   "execution_count": null,
   "metadata": {},
   "outputs": [],
   "source": [
    "BO_vis.plot_cma(data)"
   ]
  },
  {
   "cell_type": "code",
   "execution_count": null,
   "metadata": {},
   "outputs": [],
   "source": [
    "data['path_o'] = data['dict_config']['path_save']\n",
    "BO_vis.save_ROC_segment(data,'segmentation',cma = True)"
   ]
  },
  {
   "cell_type": "code",
   "execution_count": null,
   "metadata": {},
   "outputs": [],
   "source": [
    "data['path_o'] = data['dict_config']['path_save']\n",
    "BO_vis.save_ROC_segment(data,'location',cma = True)"
   ]
  },
  {
   "cell_type": "code",
   "execution_count": null,
   "metadata": {},
   "outputs": [],
   "source": []
  }
 ],
 "metadata": {
  "kernelspec": {
   "display_name": "Python 3",
   "language": "python",
   "name": "python3"
  },
  "language_info": {
   "codemirror_mode": {
    "name": "ipython",
    "version": 3
   },
   "file_extension": ".py",
   "mimetype": "text/x-python",
   "name": "python",
   "nbconvert_exporter": "python",
   "pygments_lexer": "ipython3",
   "version": "3.6.3"
  }
 },
 "nbformat": 4,
 "nbformat_minor": 2
}

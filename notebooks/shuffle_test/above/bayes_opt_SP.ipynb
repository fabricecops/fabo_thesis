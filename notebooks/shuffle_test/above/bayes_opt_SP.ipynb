{
 "cells": [
  {
   "cell_type": "code",
   "execution_count": 1,
   "metadata": {},
   "outputs": [],
   "source": [
    "import os\n",
    "import sys\n",
    "import shutil\n",
    "import dotenv\n",
    "from   dotenv import find_dotenv, load_dotenv\n",
    "import matplotlib\n",
    "load_dotenv(find_dotenv())\n",
    "PATH_P     = os.environ['PATH_P']\n",
    "os.chdir(PATH_P)\n",
    "sys.path.insert(0, PATH_P)\n",
    "import seaborn as sns\n",
    "import pandas as pd\n",
    "from src.dst.outputhandler.pickle import tic,toc,pickle_save_,pickle_load\n",
    "from src.dst.plots.plots import plotting_tool,retrieve_data\n",
    "from src.visualization.vis_LSTM_p.main import main_visualize\n",
    "\n",
    "import matplotlib.pyplot as plt"
   ]
  },
  {
   "cell_type": "markdown",
   "metadata": {},
   "source": [
    "## bayes opt"
   ]
  },
  {
   "cell_type": "code",
   "execution_count": 2,
   "metadata": {},
   "outputs": [
    {
     "data": {
      "image/png": "[encoded data removed]",
      "text/plain": [
       "<Figure size 1152x288 with 2 Axes>"
      ]
     },
     "metadata": {},
     "output_type": "display_data"
    },
    {
     "data": {
      "text/plain": [
       "<Figure size 432x288 with 0 Axes>"
      ]
     },
     "metadata": {},
     "output_type": "display_data"
    }
   ],
   "source": [
    "path                              =  './models/test_shuffle/sneaky/SP/'\n",
    "RD                                = retrieve_data()\n",
    "data,dict_,path_best,hist_best    = RD.get_best_D1(path)\n",
    "BO_vis                            = plotting_tool(dict_)\n",
    "\n",
    "BO_vis.plot_dist(data)\n"
   ]
  },
  {
   "cell_type": "markdown",
   "metadata": {},
   "source": [
    "### DEEP1"
   ]
  },
  {
   "cell_type": "code",
   "execution_count": null,
   "metadata": {},
   "outputs": [],
   "source": [
    "path                                  =  './models/bayes_opt/DEEP1/'\n",
    "RD                                    = retrieve_data()\n",
    "data,dict_,path_best,hist             = RD.get_best_D1(path)\n",
    "data['df_t_val_train']                = pd.concat([data['df_t_train'],data['df_t_val']])\n",
    "print(hist)\n",
    "AUC_v_a                               = RD.get_all(path,'AUC_v')\n",
    "\n",
    "val_loss_a                            = RD.get_all(path,'val_f')\n",
    "dict_['AUC_v']                        = max(hist['AUC_v'])\n",
    "\n",
    "RD.print_dict(dict_)\n",
    "BO_vis                                = plotting_tool(dict_)"
   ]
  },
  {
   "cell_type": "code",
   "execution_count": null,
   "metadata": {},
   "outputs": [],
   "source": [
    "BO_vis.plot_dist_result(AUC_v_a,val_loss_a,[])\n"
   ]
  },
  {
   "cell_type": "code",
   "execution_count": null,
   "metadata": {},
   "outputs": [],
   "source": [
    "BO_vis.save_plots_no_cma(data)"
   ]
  },
  {
   "cell_type": "code",
   "execution_count": null,
   "metadata": {},
   "outputs": [],
   "source": [
    "data_s = BO_vis._get_data_segmented(data,'segmentation')\n",
    "BO_vis.save_ROC_segment(data_s,'segmentation')"
   ]
  },
  {
   "cell_type": "code",
   "execution_count": null,
   "metadata": {},
   "outputs": [],
   "source": [
    "data_s = BO_vis._get_data_segmented(data,'location')\n",
    "BO_vis.save_ROC_segment(data_s,'location')"
   ]
  },
  {
   "cell_type": "code",
   "execution_count": null,
   "metadata": {},
   "outputs": [],
   "source": [
    "df = RD.get_scatter_data(path,['time_dim','vector','lr','val_f'])\n",
    "df['AUC_v'] = RD.get_all(path,'AUC_v')\n",
    "\n",
    "g = sns.pairplot(df, diag_kind=\"hist\",kind = 'reg')\n",
    "for ax in g.axes.flat: \n",
    "    plt.setp(ax.get_xticklabels(), rotation=45)"
   ]
  },
  {
   "cell_type": "markdown",
   "metadata": {},
   "source": [
    "### vistool"
   ]
  },
  {
   "cell_type": "markdown",
   "metadata": {},
   "source": [
    "BROKEN --> See DEEP2"
   ]
  },
  {
   "cell_type": "markdown",
   "metadata": {},
   "source": [
    "# DEEP2"
   ]
  },
  {
   "cell_type": "code",
   "execution_count": null,
   "metadata": {},
   "outputs": [],
   "source": [
    "path                                  =  './models/bayes_opt/DEEP2/'\n",
    "RD                                    = retrieve_data()\n",
    "data,dict_,path_best,hist_nd,hist_d   = RD.get_best(path)\n",
    "data['df_t_val_train']                = pd.concat([data['df_t_train'],data['df_t_val']])\n",
    "dict_time                             = pickle_load(path+'dict_BO.p',None)\n",
    "\n",
    "val_loss_a                            = RD.get_all(path,'val_f')\n",
    "dict_['AUC_v']                        = max(hist_d['AUC_v'])\n",
    "RD.print_dict(dict_)\n",
    "BO_vis                                = plotting_tool(dict_)"
   ]
  },
  {
   "cell_type": "code",
   "execution_count": null,
   "metadata": {},
   "outputs": [],
   "source": [
    "BO_vis.plot_dist_result(hist_d['AUC_v'],val_loss_a,dict_time['time_'])"
   ]
  },
  {
   "cell_type": "code",
   "execution_count": null,
   "metadata": {},
   "outputs": [],
   "source": [
    "plt.plot(hist_nd['loss'],label = 'loss')\n",
    "plt.plot(hist_nd['val_loss'],label = 'val_loss')\n",
    "plt.legend()\n",
    "plt.xlabel('epoch')\n",
    "plt.ylabel('loss')"
   ]
  },
  {
   "cell_type": "code",
   "execution_count": null,
   "metadata": {},
   "outputs": [],
   "source": [
    "BO_vis.save_plots_no_cma(data)"
   ]
  },
  {
   "cell_type": "code",
   "execution_count": null,
   "metadata": {},
   "outputs": [],
   "source": [
    "data_s = BO_vis._get_data_segmented(data,'segmentation')\n",
    "BO_vis.save_ROC_segment(data_s,'segmentation')"
   ]
  },
  {
   "cell_type": "code",
   "execution_count": null,
   "metadata": {},
   "outputs": [],
   "source": [
    "data_s = BO_vis._get_data_segmented(data,'location')\n",
    "BO_vis.save_ROC_segment(data_s,'location')"
   ]
  },
  {
   "cell_type": "code",
   "execution_count": null,
   "metadata": {
    "scrolled": true
   },
   "outputs": [],
   "source": [
    "df = RD.get_scatter_data(path,['AUC_v','time_dim','vector','lr','mode_data'])\n",
    "fig = plt.figure(figsize=(16,4))\n",
    "g = sns.pairplot(df, diag_kind=\"hist\",kind = 'reg' , hue ='mode_data'  )\n",
    "plt.savefig('./bayesopt.png')"
   ]
  },
  {
   "cell_type": "code",
   "execution_count": null,
   "metadata": {},
   "outputs": [],
   "source": [
    "dict_c = {\n",
    "        'path'       :  path_best,\n",
    "        'mode'       : 'df_t_train',\n",
    "\n",
    "        'path_dict'  : path_best+'dict.p',\n",
    "\n",
    "        'plot_mode'  : 'error'\n",
    "\n",
    "\n",
    "}\n",
    "vis = main_visualize(dict_c)\n",
    "vis.play_videos()\n"
   ]
  },
  {
   "cell_type": "markdown",
   "metadata": {},
   "source": [
    "### DEEP3"
   ]
  },
  {
   "cell_type": "code",
   "execution_count": null,
   "metadata": {},
   "outputs": [],
   "source": [
    "path                                  =  './models/bayes_opt/DEEP3/'\n",
    "RD                                    = retrieve_data()\n",
    "data,dict_,path_best,hist_nd,hist_d   = RD.get_best(path)\n",
    "data['df_t_val_train']                = pd.concat([data['df_t_train'],data['df_t_val']])\n",
    "dict_time                             = pickle_load(path+'dict_BO.p',None)\n",
    "\n",
    "val_loss_a                            = RD.get_all(path,'val_f')\n",
    "dict_['AUC_v']                        = max(hist_d['AUC_v'])\n",
    "RD.print_dict(dict_)\n",
    "BO_vis                                = plotting_tool(dict_)"
   ]
  },
  {
   "cell_type": "code",
   "execution_count": null,
   "metadata": {},
   "outputs": [],
   "source": [
    "BO_vis.plot_dist_result(hist_d['AUC_v'],val_loss_a,dict_time['time_'])"
   ]
  },
  {
   "cell_type": "code",
   "execution_count": null,
   "metadata": {},
   "outputs": [],
   "source": [
    "plt.plot(hist_nd['loss'],label = 'loss')\n",
    "plt.plot(hist_nd['val_loss'],label = 'val_loss')\n",
    "plt.legend()\n",
    "plt.xlabel('epoch')\n",
    "plt.ylabel('loss')"
   ]
  },
  {
   "cell_type": "code",
   "execution_count": null,
   "metadata": {},
   "outputs": [],
   "source": [
    "BO_vis.save_plots_no_cma(data)"
   ]
  },
  {
   "cell_type": "code",
   "execution_count": null,
   "metadata": {},
   "outputs": [],
   "source": [
    "data_s = BO_vis._get_data_segmented(data,'segmentation')\n",
    "BO_vis.save_ROC_segment(data_s,'segmentation')"
   ]
  },
  {
   "cell_type": "code",
   "execution_count": null,
   "metadata": {},
   "outputs": [],
   "source": [
    "data_s = BO_vis._get_data_segmented(data,'location')\n",
    "BO_vis.save_ROC_segment(data_s,'location')"
   ]
  },
  {
   "cell_type": "code",
   "execution_count": null,
   "metadata": {},
   "outputs": [],
   "source": [
    "df = RD.get_scatter_data(path,['AUC_v','time_dim','vector','lr','mode_data'])\n",
    "g = sns.pairplot(df, diag_kind=\"hist\",kind = 'reg' , hue ='mode_data'  )"
   ]
  },
  {
   "cell_type": "code",
   "execution_count": null,
   "metadata": {},
   "outputs": [],
   "source": [
    "dict_c = {\n",
    "        'path'       :  path_best,\n",
    "        'mode'       : 'df_t_train',\n",
    "\n",
    "        'path_dict'  : path_best+'dict.p',\n",
    "\n",
    "        'plot_mode'  : 'error'\n",
    "\n",
    "\n",
    "}\n",
    "vis = main_visualize(dict_c)\n",
    "vis.play_videos()\n"
   ]
  },
  {
   "cell_type": "code",
   "execution_count": null,
   "metadata": {},
   "outputs": [],
   "source": []
  }
 ],
 "metadata": {
  "kernelspec": {
   "display_name": "Python 3",
   "language": "python",
   "name": "python3"
  },
  "language_info": {
   "codemirror_mode": {
    "name": "ipython",
    "version": 3
   },
   "file_extension": ".py",
   "mimetype": "text/x-python",
   "name": "python",
   "nbconvert_exporter": "python",
   "pygments_lexer": "ipython3",
   "version": "3.6.3"
  }
 },
 "nbformat": 4,
 "nbformat_minor": 2
}

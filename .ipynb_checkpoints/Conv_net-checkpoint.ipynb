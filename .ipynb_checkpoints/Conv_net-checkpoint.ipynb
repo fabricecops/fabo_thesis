{
 "cells": [
  {
   "cell_type": "code",
   "execution_count": 1,
   "metadata": {},
   "outputs": [
    {
     "name": "stderr",
     "output_type": "stream",
     "text": [
      "Using TensorFlow backend.\n"
     ]
    }
   ],
   "source": [
    "import helper.keras_models as km\n",
    "import helper.visualization as vs\n",
    "import helper.preprocessing as pp\n",
    "import helper.helper_baseline as hf\n",
    "\n",
    "import time\n",
    "import pandas as pd\n",
    "\n",
    "vis_tool = vs.visualization_tool()\n",
    "\n",
    "import cv2\n",
    "import matplotlib.pyplot as plt\n",
    "import os\n",
    "import numpy as np\n",
    "\n",
    "\n",
    "from keras.layers import merge, Input,MaxPooling2D,Flatten,UpSampling2D\n",
    "from keras.models import Sequential, Model\n",
    "from keras.layers.core import Reshape,RepeatVector,Dense, Dropout, Reshape,Activation\n",
    "from keras.callbacks import TensorBoard,History\n",
    "from keras.layers.recurrent import LSTM\n",
    "from keras.layers.convolutional import Conv2D\n",
    "from keras import backend as K\n",
    "from keras.preprocessing.image import ImageDataGenerator\n",
    "from keras.models import load_model\n",
    "from keras.optimizers import Adam"
   ]
  },
  {
   "cell_type": "markdown",
   "metadata": {},
   "source": [
    "TODO:\n",
    "- preprocessing\n",
    "    -class peak detection\n",
    "        - slicing different debts\n",
    "        - contour + pike detection\n",
    "        - path detection\n",
    "    -class PP\n",
    "        - generate batches\n",
    "        \n",
    "- convolutional net\n",
    "    - write and save stats: hist object, tensorboard ref, dict, model\n",
    "\n",
    "- vis_tool\n",
    "    - print shape different features\n",
    "    - visualization conv layers\n",
    "    - show video + error curve (per video) \n",
    "    \n",
    "- seq2seq\n",
    "    - finish code and configurability\n",
    "    \n",
    "- assembler\n",
    "    - use classes with pretrained models"
   ]
  },
  {
   "cell_type": "markdown",
   "metadata": {},
   "source": [
    "### dataframe"
   ]
  },
  {
   "cell_type": "code",
   "execution_count": 2,
   "metadata": {},
   "outputs": [],
   "source": [
    "list_names = ['Scenario_2017-09-11 14:33:19',\n",
    "             'Scenario_2017-09-04 17:18:27',\n",
    "             'Scenario_2017-09-04 17:21:55',\n",
    "             'Scenario_2017-09-11 14:22:00']\n",
    "\n",
    "\n",
    "df_data =  hf.get_df_data(list_names)"
   ]
  },
  {
   "cell_type": "markdown",
   "metadata": {},
   "source": [
    "### configuration"
   ]
  },
  {
   "cell_type": "code",
   "execution_count": 15,
   "metadata": {},
   "outputs": [],
   "source": [
    "dict_p_conv = {    \n",
    "    'img_width': 240,\n",
    "    'img_height' : 320,\n",
    "\n",
    "    'train_data_dir' : './data/BGS/bit_16/neg_images/',\n",
    "    'validation_data_dir' : './data/BGS/bit_16/pos_images/',\n",
    "    'tensorboard_dir':'models/Conv/tensorboard/',\n",
    "    'model_path':'./models/Conv/first_model.h5',\n",
    "    \n",
    "    \n",
    "    \n",
    "    'nb_train_samples' : 9079,\n",
    "    'nb_validation_samples' : 1000,\n",
    "    'epochs' : 10,\n",
    "    'batch_size' :10000,\n",
    "    \n",
    "    'lr':0.01,\n",
    "    'dropout':0.3,\n",
    "    \n",
    "    'filters':[(16,3,3,2),(8,3,3,2),(8,3,3,2)],\n",
    "    'upsampling':[(8,3,3,2),(8,3,3,2),(16,3,3,2)],\n",
    "    'output':(1,3,3),\n",
    "    \n",
    "    'optimizer':'adam',\n",
    "    'loss': 'mse',\n",
    "    \n",
    "    'colormode':'grayscale',\n",
    "    'rescale': 1./2723,\n",
    "    'shear_range': 0.2,\n",
    "    'zoom_range': 0.2,\n",
    "    'horizontal_flip':True    \n",
    "\n",
    "}"
   ]
  },
  {
   "cell_type": "markdown",
   "metadata": {},
   "source": [
    "### Super cov net"
   ]
  },
  {
   "cell_type": "markdown",
   "metadata": {},
   "source": [
    "#### train/evaluate"
   ]
  },
  {
   "cell_type": "code",
   "execution_count": null,
   "metadata": {
    "scrolled": true
   },
   "outputs": [
    {
     "name": "stdout",
     "output_type": "stream",
     "text": [
      "Found 9568 images belonging to 1 classes.\n",
      "Found 5066 images belonging to 1 classes.\n",
      "Epoch 1/10\n",
      " 6/90 [=>............................] - ETA: 2:16 - loss: 0.2294"
     ]
    }
   ],
   "source": [
    "######### Training Module   ##########\n",
    "######################################\n",
    "conv = km.Conv_AE(dict_p_conv)\n",
    "history = conv.fit_generator()\n",
    "conv.give_tensorboard_command()\n",
    "# conv.model_load()"
   ]
  },
  {
   "cell_type": "markdown",
   "metadata": {},
   "source": [
    "#### validation curve"
   ]
  },
  {
   "cell_type": "code",
   "execution_count": 5,
   "metadata": {},
   "outputs": [
    {
     "data": {
      "image/png": "[encoded data removed]",
      "text/plain": [
       "<matplotlib.figure.Figure at 0x7effa0a6d668>"
      ]
     },
     "metadata": {},
     "output_type": "display_data"
    }
   ],
   "source": [
    "plt.plot(history['loss'],label ='loss')\n",
    "plt.plot(history['val_loss'],label = 'val_losss')\n",
    "plt.legend()\n",
    "plt.show()"
   ]
  },
  {
   "cell_type": "markdown",
   "metadata": {},
   "source": [
    "#### error distributions"
   ]
  },
  {
   "cell_type": "code",
   "execution_count": 6,
   "metadata": {},
   "outputs": [],
   "source": [
    "df_data = df_data[df_data['label'] != 'und']\n",
    "df_data['eval']= conv.evaluate_df(df_data)\n",
    "ev_te = np.array(df_data[df_data['label']==True]['eval'])\n",
    "ev_tr = np.array(df_data[df_data['label']==False]['eval'])"
   ]
  },
  {
   "cell_type": "code",
   "execution_count": 7,
   "metadata": {
    "scrolled": true
   },
   "outputs": [
    {
     "data": {
      "image/png": "[encoded data removed]",
      "text/plain": [
       "<matplotlib.figure.Figure at 0x7effe8277f60>"
      ]
     },
     "metadata": {},
     "output_type": "display_data"
    },
    {
     "data": {
      "image/png": "[encoded data removed]",
      "text/plain": [
       "<matplotlib.figure.Figure at 0x7efff0a54128>"
      ]
     },
     "metadata": {},
     "output_type": "display_data"
    }
   ],
   "source": [
    "#vis_tool.plot_max(ev_tr,ev_te)\n",
    "vis_tool.plot_distr_ROC_pictures(ev_tr,ev_te)"
   ]
  },
  {
   "cell_type": "markdown",
   "metadata": {},
   "source": [
    "#### plot worst performing pictures"
   ]
  },
  {
   "cell_type": "markdown",
   "metadata": {},
   "source": [
    "#### plot error per movie"
   ]
  },
  {
   "cell_type": "code",
   "execution_count": 11,
   "metadata": {},
   "outputs": [],
   "source": [
    "vis_tool.play_movie_error(df_data,conv)"
   ]
  },
  {
   "cell_type": "code",
   "execution_count": 14,
   "metadata": {},
   "outputs": [
    {
     "name": "stdout",
     "output_type": "stream",
     "text": [
      "\r",
      "1/1 [==============================] - 0s 4ms/step\n"
     ]
    },
    {
     "data": {
      "image/png": "[encoded data removed]",
      "text/plain": [
       "<matplotlib.figure.Figure at 0x7effa0b9cb70>"
      ]
     },
     "metadata": {},
     "output_type": "display_data"
    },
    {
     "data": {
      "image/png": "[encoded data removed]",
      "text/plain": [
       "<matplotlib.figure.Figure at 0x7efeac105b00>"
      ]
     },
     "metadata": {},
     "output_type": "display_data"
    }
   ],
   "source": [
    "movie = conv.load_in_movie(df_data.iloc[0])\n",
    "model = conv.return_model()\n",
    "\n",
    "i = 10\n",
    "picture = movie[i].reshape(1,movie[i].shape[0],movie[i].shape[1],1)\n",
    "pred = model.predict(picture)*1000000\n",
    "model.evaluate(picture,pred)\n",
    "\n",
    "plt.hist(picture.ravel(),bins=100)\n",
    "plt.show()\n",
    "plt.hist(pred.ravel(),bins=100)\n",
    "plt.show()"
   ]
  },
  {
   "cell_type": "markdown",
   "metadata": {},
   "source": [
    "#### visualization best/worst predictions"
   ]
  },
  {
   "cell_type": "markdown",
   "metadata": {},
   "source": [
    "#### retrieve features"
   ]
  },
  {
   "cell_type": "code",
   "execution_count": 9,
   "metadata": {},
   "outputs": [
    {
     "ename": "NameError",
     "evalue": "name 'train_set' is not defined",
     "output_type": "error",
     "traceback": [
      "\u001b[0;31m---------------------------------------------------------------------------\u001b[0m",
      "\u001b[0;31mNameError\u001b[0m                                 Traceback (most recent call last)",
      "\u001b[0;32m<ipython-input-9-4d5a0632b716>\u001b[0m in \u001b[0;36m<module>\u001b[0;34m()\u001b[0m\n\u001b[1;32m      1\u001b[0m \u001b[0;31m####### dict_features_tr[LAYERS][SHAPE/DATA][MOVIE]  #####################3#\u001b[0m\u001b[0;34m\u001b[0m\u001b[0;34m\u001b[0m\u001b[0m\n\u001b[1;32m      2\u001b[0m \u001b[0mvis_tool\u001b[0m\u001b[0;34m.\u001b[0m\u001b[0mtic\u001b[0m\u001b[0;34m(\u001b[0m\u001b[0;34m)\u001b[0m\u001b[0;34m\u001b[0m\u001b[0m\n\u001b[0;32m----> 3\u001b[0;31m \u001b[0mdict_features_tr\u001b[0m \u001b[0;34m=\u001b[0m \u001b[0mconv\u001b[0m\u001b[0;34m.\u001b[0m\u001b[0mretrieve_all_features\u001b[0m\u001b[0;34m(\u001b[0m\u001b[0mtrain_set\u001b[0m\u001b[0;34m)\u001b[0m\u001b[0;34m\u001b[0m\u001b[0m\n\u001b[0m\u001b[1;32m      4\u001b[0m \u001b[0mvis_tool\u001b[0m\u001b[0;34m.\u001b[0m\u001b[0mtoc\u001b[0m\u001b[0;34m(\u001b[0m\u001b[0;34m)\u001b[0m\u001b[0;34m\u001b[0m\u001b[0m\n\u001b[1;32m      5\u001b[0m \u001b[0;34m\u001b[0m\u001b[0m\n",
      "\u001b[0;31mNameError\u001b[0m: name 'train_set' is not defined"
     ]
    }
   ],
   "source": [
    "####### dict_features_tr[LAYERS][SHAPE/DATA][MOVIE]  #####################3#\n",
    "vis_tool.tic()\n",
    "dict_features_tr = conv.retrieve_all_features(train_set)\n",
    "vis_tool.toc()\n",
    "\n",
    "vis_tool.tic()\n",
    "dict_features_te = conv.retrieve_all_features(test_set)\n",
    "vis_tool.toc()"
   ]
  },
  {
   "cell_type": "code",
   "execution_count": null,
   "metadata": {},
   "outputs": [],
   "source": [
    "dict_features_tr[0][1][0].shape"
   ]
  }
 ],
 "metadata": {
  "kernelspec": {
   "display_name": "Python 3",
   "language": "python",
   "name": "python3"
  },
  "language_info": {
   "codemirror_mode": {
    "name": "ipython",
    "version": 3
   },
   "file_extension": ".py",
   "mimetype": "text/x-python",
   "name": "python",
   "nbconvert_exporter": "python",
   "pygments_lexer": "ipython3",
   "version": "3.5.3"
  }
 },
 "nbformat": 4,
 "nbformat_minor": 2
}

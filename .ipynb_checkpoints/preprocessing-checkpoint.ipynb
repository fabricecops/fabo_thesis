{
 "cells": [
  {
   "cell_type": "code",
   "execution_count": 1,
   "metadata": {},
   "outputs": [],
   "source": [
    "import cv2\n",
    "import numpy as np\n",
    "import pandas as pd\n",
    "import matplotlib.pyplot as plt\n",
    "import time \n",
    "import os\n",
    "from tqdm import tqdm\n",
    "import helper.helper_baseline as hf\n",
    "\n",
    "import helper.visualization as vs\n",
    "import helper.preprocessing as pp\n",
    "\n",
    "\n",
    "import shutil\n",
    "\n",
    "vis_tool = vs.visualization_tool()"
   ]
  },
  {
   "cell_type": "markdown",
   "metadata": {},
   "source": [
    "- peak detection"
   ]
  },
  {
   "cell_type": "markdown",
   "metadata": {},
   "source": [
    "## load in df_data"
   ]
  },
  {
   "cell_type": "code",
   "execution_count": 2,
   "metadata": {},
   "outputs": [
    {
     "data": {
      "image/png": "[encoded data removed]",
      "text/plain": [
       "<matplotlib.figure.Figure at 0x7f5950560fd0>"
      ]
     },
     "metadata": {},
     "output_type": "display_data"
    },
    {
     "name": "stdout",
     "output_type": "stream",
     "text": [
      "Nr_True:  44\n",
      "Nr_false:  162\n",
      "Nr_und:  18\n"
     ]
    }
   ],
   "source": [
    "list_names = ['Scenario_2017-09-11 14:33:19',\n",
    "             'Scenario_2017-09-04 17:18:27',\n",
    "             'Scenario_2017-09-04 17:21:55',\n",
    "             'Scenario_2017-09-11 14:22:00']\n",
    "\n",
    "\n",
    "df         =  hf.get_df_data(list_names)\n",
    "hf.plot_dist(df)"
   ]
  },
  {
   "cell_type": "markdown",
   "metadata": {},
   "source": [
    "#### get image shape"
   ]
  },
  {
   "cell_type": "code",
   "execution_count": null,
   "metadata": {},
   "outputs": [],
   "source": [
    "path = 'data/BGS/bit_8/'+df.iloc[1]['frames'][1]\n",
    "cv2.imread(path,-1).shape"
   ]
  },
  {
   "cell_type": "markdown",
   "metadata": {},
   "source": [
    "#### play videos"
   ]
  },
  {
   "cell_type": "code",
   "execution_count": null,
   "metadata": {},
   "outputs": [],
   "source": [
    "hf.play_videos(df)"
   ]
  },
  {
   "cell_type": "markdown",
   "metadata": {},
   "source": [
    "#### move samples dir"
   ]
  },
  {
   "cell_type": "code",
   "execution_count": null,
   "metadata": {},
   "outputs": [],
   "source": [
    "hf.move_pictures(df)"
   ]
  },
  {
   "cell_type": "markdown",
   "metadata": {},
   "source": [
    "## functions BSG"
   ]
  },
  {
   "cell_type": "markdown",
   "metadata": {},
   "source": [
    "#### stats"
   ]
  },
  {
   "cell_type": "code",
   "execution_count": null,
   "metadata": {
    "scrolled": true
   },
   "outputs": [],
   "source": [
    "name       =  'Scenario_2017-09-11 14:22:00'\n",
    "list_names =       ['Scenario_2017-09-11 14:33:19',\n",
    "                'Scenario_2017-09-04 17:18:27',\n",
    "                'Scenario_2017-09-04 17:21:55',\n",
    "                'Scenario_2017-09-11 14:22:00']\n",
    "\n",
    "bgs        = pp.BGS()"
   ]
  },
  {
   "cell_type": "markdown",
   "metadata": {},
   "source": [
    "#### main"
   ]
  },
  {
   "cell_type": "code",
   "execution_count": null,
   "metadata": {},
   "outputs": [],
   "source": [
    "bgs.main(df)"
   ]
  },
  {
   "cell_type": "markdown",
   "metadata": {},
   "source": [
    "#### reconstruct"
   ]
  },
  {
   "cell_type": "code",
   "execution_count": null,
   "metadata": {},
   "outputs": [],
   "source": [
    "bgs.show_reconstructed_pic(df,2,5)"
   ]
  },
  {
   "cell_type": "markdown",
   "metadata": {},
   "source": [
    "#### show proces"
   ]
  },
  {
   "cell_type": "code",
   "execution_count": null,
   "metadata": {},
   "outputs": [],
   "source": [
    "bgs.show_process(name,10)"
   ]
  },
  {
   "cell_type": "markdown",
   "metadata": {},
   "source": [
    "### peak derivation"
   ]
  },
  {
   "cell_type": "code",
   "execution_count": 3,
   "metadata": {},
   "outputs": [],
   "source": [
    "dict_pd = {\n",
    "    'resolution'     : 10,\n",
    "    'area'           : 100,\n",
    "    'min_h'          : 0,\n",
    "    'max_h'          : 120,\n",
    "    \n",
    "    'max_p_h'        : 4,\n",
    "    \n",
    "    'path_save'      :'data/peak_detection/UP/'\n",
    "    \n",
    "}\n",
    "\n",
    "\n",
    "PP = pp.path_Generation(df,dict_pd)"
   ]
  },
  {
   "cell_type": "code",
   "execution_count": 4,
   "metadata": {},
   "outputs": [],
   "source": [
    "PP.play_videos(50)"
   ]
  },
  {
   "cell_type": "code",
   "execution_count": null,
   "metadata": {},
   "outputs": [
    {
     "name": "stderr",
     "output_type": "stream",
     "text": [
      " 15%|█▌        | 34/224 [00:12<01:11,  2.67it/s]"
     ]
    }
   ],
   "source": [
    "x = PP.main()"
   ]
  }
 ],
 "metadata": {
  "kernelspec": {
   "display_name": "Python 3",
   "language": "python",
   "name": "python3"
  },
  "language_info": {
   "codemirror_mode": {
    "name": "ipython",
    "version": 3
   },
   "file_extension": ".py",
   "mimetype": "text/x-python",
   "name": "python",
   "nbconvert_exporter": "python",
   "pygments_lexer": "ipython3",
   "version": "3.5.3"
  }
 },
 "nbformat": 4,
 "nbformat_minor": 2
}
